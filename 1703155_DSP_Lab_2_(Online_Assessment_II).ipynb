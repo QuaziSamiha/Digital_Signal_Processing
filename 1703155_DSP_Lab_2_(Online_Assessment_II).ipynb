{
  "nbformat": 4,
  "nbformat_minor": 0,
  "metadata": {
    "colab": {
      "provenance": [],
      "authorship_tag": "ABX9TyNkIKCqjfoMTqxSTQkv4gck",
      "include_colab_link": true
    },
    "kernelspec": {
      "name": "python3",
      "display_name": "Python 3"
    },
    "language_info": {
      "name": "python"
    }
  },
  "cells": [
    {
      "cell_type": "markdown",
      "metadata": {
        "id": "view-in-github",
        "colab_type": "text"
      },
      "source": [
        "<a href=\"https://colab.research.google.com/github/QuaziSamiha/Digital_Signal_Processing/blob/main/1703155_DSP_Lab_2_(Online_Assessment_II).ipynb\" target=\"_parent\"><img src=\"https://colab.research.google.com/assets/colab-badge.svg\" alt=\"Open In Colab\"/></a>"
      ]
    },
    {
      "cell_type": "code",
      "execution_count": null,
      "metadata": {
        "id": "KQWvtwbr-KZd"
      },
      "outputs": [],
      "source": [
        "import numpy as np\n",
        "import matplotlib.pyplot as plt"
      ]
    },
    {
      "cell_type": "code",
      "source": [
        "# x(n) = {3,2,1,1,2,3}\n",
        "xn = np.array([3,2,1,1,2,3])\n",
        "index = np.array([-4,-3,-2,-1,0,1])"
      ],
      "metadata": {
        "id": "3aHG-HUr-o6a"
      },
      "execution_count": null,
      "outputs": []
    },
    {
      "cell_type": "code",
      "source": [
        "# plotting x(n) = {3,2,1,1,2,3}\n",
        "plt.figure(figsize=(10,5))\n",
        "markerline, stemlines, baseline = plt.stem(index, xn, label='x(n)')\n",
        "plt.setp(stemlines, 'linewidth', 3)"
      ],
      "metadata": {
        "colab": {
          "base_uri": "https://localhost:8080/",
          "height": 392
        },
        "id": "RS244TtC_bkN",
        "outputId": "009ac08f-bd50-420e-cf90-47dfbd58ec2f"
      },
      "execution_count": null,
      "outputs": [
        {
          "output_type": "stream",
          "name": "stderr",
          "text": [
            "/usr/local/lib/python3.7/dist-packages/ipykernel_launcher.py:3: UserWarning: In Matplotlib 3.3 individual lines on a stem plot will be added as a LineCollection instead of individual lines. This significantly improves the performance of a stem plot. To remove this warning and switch to the new behaviour, set the \"use_line_collection\" keyword argument to True.\n",
            "  This is separate from the ipykernel package so we can avoid doing imports until\n"
          ]
        },
        {
          "output_type": "execute_result",
          "data": {
            "text/plain": [
              "[None, None, None, None, None, None]"
            ]
          },
          "metadata": {},
          "execution_count": 33
        },
        {
          "output_type": "display_data",
          "data": {
            "text/plain": [
              "<Figure size 720x360 with 1 Axes>"
            ],
            "image/png": "[encoded data removed]"
          },
          "metadata": {
            "needs_background": "light"
          }
        }
      ]
    },
    {
      "cell_type": "code",
      "source": [
        "# plotting w(n) = {1.5,0.75,1.5}\n",
        "wn = np.array([0,0,1.5,0.75,1.5,0])\n",
        "markerline, stemlines, baseline = plt.stem(index, wn, label='w(n)')\n",
        "plt.setp(stemlines, 'linewidth', 3)"
      ],
      "metadata": {
        "colab": {
          "base_uri": "https://localhost:8080/",
          "height": 337
        },
        "id": "SvgS4WYYAofZ",
        "outputId": "37adc2ef-56ef-4bb3-cb22-41fa5fc780f7"
      },
      "execution_count": null,
      "outputs": [
        {
          "output_type": "stream",
          "name": "stderr",
          "text": [
            "/usr/local/lib/python3.7/dist-packages/ipykernel_launcher.py:3: UserWarning: In Matplotlib 3.3 individual lines on a stem plot will be added as a LineCollection instead of individual lines. This significantly improves the performance of a stem plot. To remove this warning and switch to the new behaviour, set the \"use_line_collection\" keyword argument to True.\n",
            "  This is separate from the ipykernel package so we can avoid doing imports until\n"
          ]
        },
        {
          "output_type": "execute_result",
          "data": {
            "text/plain": [
              "[None, None, None, None, None, None]"
            ]
          },
          "metadata": {},
          "execution_count": 34
        },
        {
          "output_type": "display_data",
          "data": {
            "text/plain": [
              "<Figure size 432x288 with 1 Axes>"
            ],
            "image/png": "[encoded data removed]"
          },
          "metadata": {
            "needs_background": "light"
          }
        }
      ]
    },
    {
      "cell_type": "code",
      "source": [
        "#  y(n) = ax(n-D) + w(kn)\n",
        "# x(n) = {3,2,1,1,2,3}; w(n) = {1.5,0.75,1.5}; Attenuation factor(a) = 2.0; Delay(D) = 1. Scale factor(k) = 2.\n",
        "index2 = ([-4,-3,-2,-1,0,1,2])\n",
        "xnd = np.array([0,3,2,1,1,2,3])\n",
        "axn = 2*xnd\n",
        "wkn = [0, 0, 0, 1.5, 1.5, 0, 0]\n",
        "yn = axn + wkn\n",
        "\n",
        "markerline, stemlines, baseline = plt.stem(index2, yn, label='y(n)')\n",
        "plt.setp(stemlines, 'linewidth', 3)"
      ],
      "metadata": {
        "colab": {
          "base_uri": "https://localhost:8080/",
          "height": 337
        },
        "id": "VapiKKTdC0XL",
        "outputId": "722d09f4-1a39-4f8c-a035-6b0d8d9af754"
      },
      "execution_count": null,
      "outputs": [
        {
          "output_type": "stream",
          "name": "stderr",
          "text": [
            "/usr/local/lib/python3.7/dist-packages/ipykernel_launcher.py:9: UserWarning: In Matplotlib 3.3 individual lines on a stem plot will be added as a LineCollection instead of individual lines. This significantly improves the performance of a stem plot. To remove this warning and switch to the new behaviour, set the \"use_line_collection\" keyword argument to True.\n",
            "  if __name__ == '__main__':\n"
          ]
        },
        {
          "output_type": "execute_result",
          "data": {
            "text/plain": [
              "[None, None, None, None, None, None, None]"
            ]
          },
          "metadata": {},
          "execution_count": 36
        },
        {
          "output_type": "display_data",
          "data": {
            "text/plain": [
              "<Figure size 432x288 with 1 Axes>"
            ],
            "image/png": "[encoded data removed]"
          },
          "metadata": {
            "needs_background": "light"
          }
        }
      ]
    }
  ]
}