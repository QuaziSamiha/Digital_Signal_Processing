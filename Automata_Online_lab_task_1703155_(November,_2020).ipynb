{
  "nbformat": 4,
  "nbformat_minor": 0,
  "metadata": {
    "colab": {
      "provenance": [],
      "authorship_tag": "ABX9TyO46N8Woqgo30y97vs8xfD7",
      "include_colab_link": true
    },
    "kernelspec": {
      "name": "python3",
      "display_name": "Python 3"
    }
  },
  "cells": [
    {
      "cell_type": "markdown",
      "metadata": {
        "id": "view-in-github",
        "colab_type": "text"
      },
      "source": [
        "<a href=\"https://colab.research.google.com/github/QuaziSamiha/Digital_Signal_Processing/blob/main/Automata_Online_lab_task_1703155_(November%2C_2020).ipynb\" target=\"_parent\"><img src=\"https://colab.research.google.com/assets/colab-badge.svg\" alt=\"Open In Colab\"/></a>"
      ]
    },
    {
      "cell_type": "code",
      "metadata": {
        "id": "1FLNvHcval2p",
        "outputId": "e77f6ae6-c024-4ab1-b417-957524e56f22",
        "colab": {
          "base_uri": "https://localhost:8080/"
        }
      },
      "source": [
        "import re\n",
        "import numpy as np\n",
        "\n",
        "def patternMatch(data):\n",
        "    dataPattern = \"^[0|2|a|Q][$0-9A-Za-z]*0{1,2}[$0-9A-Za-z]*0{1,2}[$0-9A-Za-z]*[S|d]$\"\n",
        "    if re.search(dataPattern, data):\n",
        "        return 1\n",
        "    else:\n",
        "        return 0\n",
        "\n",
        "text = np.array(['Quz0dr0md','Quz0dr0mS','Quz0d#r0mS','Quz0d$r0mS','Qu00S','20200d','20256d','2Meow0von0S','aSami03233ds0S',\n",
        "                 '30shgdh0S','aLL@0dhs0S','aL0v$0LLd','0Vond0ul0d','0##meoW0d','0samiha1234vv0S' 'Q00L$d', 'Q00L$S', 'Q00#00d',\n",
        "                 'aL0v0LLS', '20$0vS'])\n",
        "\n",
        "for i in text:\n",
        "    flag = patternMatch(i)\n",
        "    if(flag == 1):\n",
        "        print(i,\"is matched\")\n",
        "    else:\n",
        "        print(i,\"is not matched\")"
      ],
      "execution_count": null,
      "outputs": [
        {
          "output_type": "stream",
          "text": [
            "Quz0dr0md is matched\n",
            "Quz0dr0mS is matched\n",
            "Quz0d#r0mS is not matched\n",
            "Quz0d$r0mS is matched\n",
            "Qu00S is matched\n",
            "20200d is matched\n",
            "20256d is not matched\n",
            "2Meow0von0S is matched\n",
            "aSami03233ds0S is matched\n",
            "30shgdh0S is not matched\n",
            "aLL@0dhs0S is not matched\n",
            "aL0v$0LLd is matched\n",
            "0Vond0ul0d is matched\n",
            "0##meoW0d is not matched\n",
            "0samiha1234vv0SQ00L$d is matched\n",
            "Q00L$S is matched\n",
            "Q00#00d is not matched\n",
            "aL0v0LLS is matched\n",
            "20$0vS is matched\n"
          ],
          "name": "stdout"
        }
      ]
    }
  ]
}